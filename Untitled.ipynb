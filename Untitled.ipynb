{
 "cells": [
  {
   "cell_type": "code",
   "execution_count": 1,
   "metadata": {},
   "outputs": [],
   "source": [
    "from ALMA_data_manipulation import ObsData\n",
    "\n",
    "import matplotlib.pyplot as plt\n",
    "import numpy as np\n",
    "import copy as cp"
   ]
  },
  {
   "cell_type": "code",
   "execution_count": 2,
   "metadata": {},
   "outputs": [],
   "source": [
    "def project_to_sky_plane(x, y, pa, inc):    \n",
    "    pa_rad, inc_rad = np.deg2rad(pa), np.deg2rad(inc)\n",
    "    xp = x * np.cos(pa_rad) + y * np.sin(pa_rad) * np.cos(inc_rad)\n",
    "    yp = x * np.sin(pa_rad) - y * np.cos(inc_rad) * np.cos(pa_rad)\n",
    "    return xp, yp"
   ]
  },
  {
   "cell_type": "code",
   "execution_count": 3,
   "metadata": {},
   "outputs": [],
   "source": [
    "def project_to_sky_plane_test():\n",
    "    grid_x, grid_y = np.linspace(-50, 50, 101, endpoint=True), np.linspace(-50, 50, 101, endpoint=True)\n",
    "    disk_x, disk_y = np.meshgrid(grid_x, grid_y)\n",
    "    sky_x, sky_y = project_to_sky_plane(disk_x, disk_y, 144.5, 47.5)\n",
    "\n",
    "    test_canvas_1 = np.zeros_like(disk_x)\n",
    "    test_canvas_2 = cp.deepcopy(test_canvas_1)\n",
    "    test_canvas_1[(disk_x**2+disk_y**2 < 30.0**2)] = 1\n",
    "    test_canvas_2[(sky_x**2+sky_y**2 < 30.0**2)] = 1\n",
    "    \n",
    "    plt.subplot(1, 2, 1)\n",
    "    plt.title('circle in disk coord')\n",
    "    plt.imshow(test_canvas_1)\n",
    "    plt.subplot(1, 2, 2)\n",
    "    plt.imshow(test_canvas_2)\n",
    "    plt.title('circle transform to sky coord')\n",
    "    plt.show()"
   ]
  },
  {
   "cell_type": "code",
   "execution_count": 4,
   "metadata": {},
   "outputs": [
    {
     "data": {
      "image/png": "[encoded data removed]",
      "text/plain": [
       "<Figure size 640x480 with 2 Axes>"
      ]
     },
     "metadata": {},
     "output_type": "display_data"
    }
   ],
   "source": [
    "project_to_sky_plane_test()"
   ]
  },
  {
   "cell_type": "code",
   "execution_count": 5,
   "metadata": {},
   "outputs": [],
   "source": [
    "def int_round(inp):\n",
    "    return int(round(inp))\n",
    "\n",
    "def list_to_int_array(inp):\n",
    "    return np.array(np.rint(inp), dtype=int)\n",
    "\n",
    "def generate_origin_of_sky_plane(xdim, ydim, kwarg, unit='pixel'):\n",
    "    if ('cx' in kwarg) and ('cy' in kwarg):      \n",
    "        cx, cy = kwarg['cx'], kwarg['cy']      \n",
    "    else:\n",
    "        if r_unit == 'pixel':\n",
    "            cx, cy = int_round(xdim/2), int_round(ydim/2)\n",
    "        else:\n",
    "            cx, cy = 0., 0.\n",
    "    return cx, cy"
   ]
  },
  {
   "cell_type": "code",
   "execution_count": 6,
   "metadata": {},
   "outputs": [],
   "source": [
    "def transform_disk_polar_to_sky_plane_cartesian(xdim, ydim, radius, pos, inc, r_unit='pixel', theta_slices=360, **kwarg):                                             \n",
    "    \n",
    "    # Theta list      \n",
    "    theta_list = np.linspace(0., 360., theta_slices)\n",
    "    # Center of input data\n",
    "    cx, cy = generate_origin_of_sky_plane(xdim, ydim, kwarg, unit=r_unit)\n",
    "    # Transform to sky plane\n",
    "    sky_x_list, sky_y_list = [], []\n",
    "    for theta in theta_list:\n",
    "        disk_x, disk_y = radius * np.cos(np.deg2rad(theta)), radius * np.sin(np.deg2rad(theta))\n",
    "        sky_x, sky_y = project_to_sky_plane(disk_x, disk_y, pos, inc)\n",
    "        sky_x, sky_y = sky_x - cx, sky_y - cy\n",
    "        sky_x_list.append(sky_x); sky_y_list.append(sky_y)\n",
    "    # List to array\n",
    "    if r_unit == 'pixel':\n",
    "        sky_x_array = list_to_int_array(sky_x_list)\n",
    "        sky_y_array = list_to_int_array(sky_y_list)\n",
    "    else:\n",
    "        sky_x_array = np.array(sky_x_list)\n",
    "        sky_y_array = np.array(sky_y_list)\n",
    "    \n",
    "    return sky_x_array, sky_y_array"
   ]
  },
  {
   "cell_type": "code",
   "execution_count": 7,
   "metadata": {},
   "outputs": [],
   "source": [
    "def generate_annular_strip_on_sky_plane(xdim, ydim, rc, rw, pos, inc, r_unit='pixel'):                           \n",
    "    r_inner = rc - rw/2.  \n",
    "    r_outer = rc + rw/2.\n",
    "    gap_inner = transform_disk_polar_to_sky_plane_cartesian(xdim, ydim, r_inner, pos, inc, r_unit=r_unit)  \n",
    "    gap_outer = transform_disk_polar_to_sky_plane_cartesian(xdim, ydim, r_outer, pos, inc, r_unit=r_unit)  \n",
    "    return gap_inner, gap_outer"
   ]
  },
  {
   "cell_type": "code",
   "execution_count": 8,
   "metadata": {},
   "outputs": [],
   "source": [
    "def generate_sky_plane_polar_in_pixel(xdim, ydim, pa, inc, **kwarg):\n",
    "\n",
    "    # Center of input data (in pixel)    \n",
    "    cx, cy = generate_origin_of_sky_plane(xdim, ydim, kwarg, unit='pixel')\n",
    "    # Generate radius, polar angle\n",
    "    disk_x_pix = np.array([np.arange(0, len(xdim), 1).astype(int)])\n",
    "    disk_y_pix = np.array([np.arange(0, len(ydim), 1).astype(int)])\n",
    "    disk_x_pixs, disk_y_pixs = np.meshgrid(disk_x_pix, disk_y_pix)\n",
    "    sky_x_pixs, sky_y_pixs = project_to_sky_plane(x_pixs, y_pixs, pa, inc)\n",
    "    rp_pixs = (xp_pixs ** 2 + yp_pixs ** 2) ** 0.5\n",
    "\n",
    "    # Note: For normal arctan, it should be y/x, but here I want\n",
    "    thetas  = np.rad2deg(np.arctan2(xp_pixs, yp_pixs))\n",
    "    return rp_pixs, thetas"
   ]
  },
  {
   "cell_type": "code",
   "execution_count": 13,
   "metadata": {},
   "outputs": [],
   "source": [
    "IM_Lup = ObsData('/home6/users/jordan/PPDisk_Project/DSHARP_DR/IMLup/IMLup_CO.fits', 158.)\n",
    "IM_Lup.stellar_property(1.12, 4250)\n",
    "IM_Lup.disk_property(47.5, 144.5, np.array([117.]), np.array([117.*0.13]), offset_x=-1.5, offset_y=1.0)\n",
    "IM_Lup.planet_property(np.array([69.]), np.array([0.77]))"
   ]
  },
  {
   "cell_type": "code",
   "execution_count": 14,
   "metadata": {},
   "outputs": [
    {
     "name": "stdout",
     "output_type": "stream",
     "text": [
      "0.0100000000000008\n",
      "2.777777777778e-06\n",
      "0.0100000000000008\n"
     ]
    }
   ],
   "source": [
    "print(IM_Lup.r_asec_pix)\n",
    "print(IM_Lup.r_deg_pix)\n",
    "print(ObsData.deg2asec(IM_Lup.r_deg_pix))"
   ]
  },
  {
   "cell_type": "code",
   "execution_count": 19,
   "metadata": {},
   "outputs": [
    {
     "data": {
      "text/plain": [
       "0"
      ]
     },
     "execution_count": 19,
     "metadata": {},
     "output_type": "execute_result"
    }
   ],
   "source": [
    "IM_Lup.asec2pix(IM_Lup.offset_x*1e-3)"
   ]
  },
  {
   "cell_type": "code",
   "execution_count": 16,
   "metadata": {},
   "outputs": [
    {
     "data": {
      "text/plain": [
       "0.0100000000000008"
      ]
     },
     "execution_count": 16,
     "metadata": {},
     "output_type": "execute_result"
    }
   ],
   "source": [
    "2.777777777778e-06*3600"
   ]
  },
  {
   "cell_type": "code",
   "execution_count": 12,
   "metadata": {},
   "outputs": [
    {
     "ename": "NameError",
     "evalue": "name 'generate_sky_plane_polar_in_pixel' is not defined",
     "output_type": "error",
     "traceback": [
      "\u001b[0;31m---------------------------------------------------------------------------\u001b[0m",
      "\u001b[0;31mNameError\u001b[0m                                 Traceback (most recent call last)",
      "\u001b[0;32m<ipython-input-12-806217c84a65>\u001b[0m in \u001b[0;36m<module>\u001b[0;34m\u001b[0m\n\u001b[0;32m----> 1\u001b[0;31m \u001b[0mgenerate_sky_plane_polar_in_pixel\u001b[0m\u001b[0;34m\u001b[0m\u001b[0;34m\u001b[0m\u001b[0m\n\u001b[0m",
      "\u001b[0;31mNameError\u001b[0m: name 'generate_sky_plane_polar_in_pixel' is not defined"
     ]
    }
   ],
   "source": [
    "generate_sky_plane_polar_in_pixel()"
   ]
  },
  {
   "cell_type": "code",
   "execution_count": null,
   "metadata": {},
   "outputs": [],
   "source": []
  }
 ],
 "metadata": {
  "kernelspec": {
   "display_name": "Python 3",
   "language": "python",
   "name": "python3"
  },
  "language_info": {
   "codemirror_mode": {
    "name": "ipython",
    "version": 3
   },
   "file_extension": ".py",
   "mimetype": "text/x-python",
   "name": "python",
   "nbconvert_exporter": "python",
   "pygments_lexer": "ipython3",
   "version": "3.7.6"
  }
 },
 "nbformat": 4,
 "nbformat_minor": 4
}
